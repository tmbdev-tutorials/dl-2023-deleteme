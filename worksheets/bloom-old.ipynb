{
 "cells": [
  {
   "cell_type": "code",
   "execution_count": null,
   "metadata": {},
   "outputs": [],
   "source": [
    "%pylab inline"
   ]
  },
  {
   "cell_type": "code",
   "execution_count": null,
   "metadata": {},
   "outputs": [],
   "source": [
    "from transformers import BloomModel, BloomConfig\n",
    "\n",
    "# Initializing a Bloom configuration\n",
    "\n",
    "configuration = BloomConfig()\n",
    "\n",
    "# Initializing a model from the configuration\n",
    "\n",
    "model = BloomModel(configuration)\n",
    "\n",
    "# Accessing the model configuration\n",
    "\n",
    "configuration = model.config"
   ]
  },
  {
   "cell_type": "code",
   "execution_count": null,
   "metadata": {},
   "outputs": [],
   "source": [
    "from transformers import BloomTokenizerFast, BloomForTokenClassification\n",
    "\n",
    "import torch\n",
    "\n",
    "tokenizer = BloomTokenizerFast.from_pretrained(\"bigscience/bloom-560m\")\n",
    "\n",
    "model = BloomForTokenClassification.from_pretrained(\"bigscience/bloom-560m\")\n",
    "\n",
    "inputs = tokenizer(\n",
    "\n",
    "    \"HuggingFace is a company based in Paris and New York\", add_special_tokens=False, return_tensors=\"pt\"\n",
    "\n",
    ")\n",
    "\n",
    "with torch.no_grad():\n",
    "\n",
    "    logits = model(**inputs).logits\n",
    "\n",
    "predicted_token_class_ids = logits.argmax(-1)\n",
    "\n",
    "# Note that tokens are classified rather then input words which means that\n",
    "\n",
    "# there might be more predicted token classes than words.\n",
    "\n",
    "# Multiple token classes might account for the same word\n",
    "\n",
    "predicted_tokens_classes = [model.config.id2label[t.item()] for t in predicted_token_class_ids[0]]\n",
    "\n",
    "predicted_tokens_classes\n"
   ]
  },
  {
   "cell_type": "code",
   "execution_count": null,
   "metadata": {},
   "outputs": [],
   "source": [
    "import torch\n",
    "\n",
    "from transformers import BloomTokenizerFast, BloomForCausalLM\n",
    "\n",
    "tokenizer = BloomTokenizerFast.from_pretrained(\"bigscience/bloom-560m\")\n",
    "\n",
    "model = BloomForCausalLM.from_pretrained(\"bigscience/bloom-560m\")\n"
   ]
  },
  {
   "cell_type": "code",
   "execution_count": null,
   "metadata": {},
   "outputs": [],
   "source": [
    "\n",
    "inputs = tokenizer(\"Hello, my dog is cute.\", return_tensors=\"pt\")\n",
    "\n",
    "outputs = model(**inputs, labels=inputs[\"input_ids\"])\n",
    "\n",
    "loss = outputs.loss\n",
    "\n",
    "logits = outputs.logits"
   ]
  },
  {
   "cell_type": "code",
   "execution_count": null,
   "metadata": {},
   "outputs": [],
   "source": [
    "\n",
    "logits.shape"
   ]
  },
  {
   "cell_type": "code",
   "execution_count": null,
   "metadata": {},
   "outputs": [],
   "source": [
    "logits[0].amin(-1)"
   ]
  },
  {
   "cell_type": "code",
   "execution_count": null,
   "metadata": {},
   "outputs": [],
   "source": [
    "data = [logits[0][i].detach().numpy() for i in range(len(logits[0]))]\n",
    "boxplot(data);"
   ]
  },
  {
   "cell_type": "code",
   "execution_count": null,
   "metadata": {},
   "outputs": [],
   "source": [
    "from transformers import pipeline\n",
    "generator = pipeline('text-generation', model = 'bloom')\n",
    "generator(\"Hello, I'm a language model\", max_length = 30, num_return_sequences=3)"
   ]
  },
  {
   "cell_type": "code",
   "execution_count": 2,
   "metadata": {},
   "outputs": [],
   "source": [
    "mname = \"bigscience/bloom-560m\"\n",
    "# mname = \"bigscience/bloom-1.3b\"\n",
    "# mname = \"bigscience/bloom\"\n",
    "from transformers import BloomTokenizerFast, BloomForTokenClassification, BloomForCausalLM\n",
    "from transformers import pipeline, TextGenerationPipeline\n",
    "class bloom_model:\n",
    "    def __init__(self):\n",
    "        self.tokenizer = BloomTokenizerFast.from_pretrained(mname)\n",
    "        self.model = BloomForCausalLM.from_pretrained(mname)\n",
    "        \n",
    "        self.generator = TextGenerationPipeline(\n",
    "            task = 'text-generation',\n",
    "            model = self.model,\n",
    "            tokenizer = self.tokenizer\n",
    "        )\n",
    "\n",
    "    def predict(self, content: str) -> str:\n",
    "            answer = self.generator(content, max_new_tokens=100)\n",
    "            return answer\n",
    "\n",
    "model = bloom_model()"
   ]
  },
  {
   "cell_type": "code",
   "execution_count": 3,
   "metadata": {},
   "outputs": [],
   "source": [
    "model.predict(\"Examples of Viking gods are\")"
   ]
  },
  {
   "cell_type": "code",
   "execution_count": null,
   "metadata": {},
   "outputs": [],
   "source": [
    "model.predict(\"Examples of small, furry rodents living near humans are\")"
   ]
  }
 ],
 "metadata": {
  "kernelspec": {
   "display_name": "Python 3.10.6 ('pytorch')",
   "language": "python",
   "name": "python3"
  },
  "language_info": {
   "codemirror_mode": {
    "name": "ipython",
    "version": 3
   },
   "file_extension": ".py",
   "mimetype": "text/x-python",
   "name": "python",
   "nbconvert_exporter": "python",
   "pygments_lexer": "ipython3",
   "version": "3.10.6"
  },
  "orig_nbformat": 4,
  "vscode": {
   "interpreter": {
    "hash": "c7992f957673c2d3b462aac70b67d9a5b996d722d2c8032b6cbf238946f7c7f4"
   }
  }
 },
 "nbformat": 4,
 "nbformat_minor": 2
}
