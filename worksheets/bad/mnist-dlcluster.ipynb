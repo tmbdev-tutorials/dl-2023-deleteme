{
 "cells": [
  {
   "cell_type": "code",
   "execution_count": 1,
   "metadata": {},
   "outputs": [
    {
     "name": "stdout",
     "output_type": "stream",
     "text": [
      "%pylab is deprecated, use %matplotlib inline and import the required libraries.\n",
      "Populating the interactive namespace from numpy and matplotlib\n"
     ]
    }
   ],
   "source": [
    "%pylab inline"
   ]
  },
  {
   "cell_type": "code",
   "execution_count": 2,
   "metadata": {},
   "outputs": [],
   "source": [
    "import os\n",
    "import math\n",
    "\n",
    "import torch\n",
    "from torch.nn import functional as F\n",
    "import pytorch_lightning as pl\n",
    "from torchvision.datasets import MNIST\n",
    "from torchmetrics import Accuracy\n",
    "from torchvision.transforms import ToTensor\n",
    "from torch import utils\n",
    "from torch import nn\n",
    "from torchmore import flex, layers\n",
    "\n",
    "def image_grid(array, ncols=4):\n",
    "    index, height, width, channels = array.shape\n",
    "    nrows = index//ncols\n",
    "    \n",
    "    img_grid = (array.reshape(nrows, ncols, height, width, channels)\n",
    "              .swapaxes(1,2)\n",
    "              .reshape(height*nrows, width*ncols))\n",
    "    \n",
    "    return img_grid\n",
    "# from pl_bolts.datamodules.mnist_datamodule import MNISTDataModule\n"
   ]
  },
  {
   "cell_type": "code",
   "execution_count": 3,
   "metadata": {},
   "outputs": [],
   "source": [
    "def transform(im):\n",
    "    a = ToTensor()(im)\n",
    "    assert a.shape == (1, 28, 28), a.shape\n",
    "    return a\n",
    "\n",
    "    \n",
    "batch_size = 256\n",
    "\n",
    "train_ds = list(MNIST(os.getcwd(), download=True, transform=transform))\n",
    "train_loader = utils.data.DataLoader(train_ds, batch_size=batch_size, shuffle=True, num_workers=0)\n",
    "test_ds = list(MNIST(os.getcwd(), download=True, transform=transform, train=False))\n",
    "test_loader = utils.data.DataLoader(test_ds, batch_size=batch_size, shuffle=True, num_workers=0)\n",
    "images = [x[0] for x in train_ds]"
   ]
  },
  {
   "cell_type": "code",
   "execution_count": 4,
   "metadata": {},
   "outputs": [],
   "source": [
    "class LightningClassifier(pl.LightningModule):\n",
    "    def __init__(self, network, config):\n",
    "        super(LightningClassifier, self).__init__()\n",
    "        self.network = network\n",
    "        self.lr = config.get(\"lr\", 0.1)\n",
    "        self.optim = getattr(torch.optim, config.get(\"optim\", \"SGD\"))\n",
    "        self.accuracy = Accuracy()\n",
    "\n",
    "    def forward(self, x):\n",
    "        y = self.network(x)\n",
    "        return torch.log_softmax(y, dim=1)\n",
    "\n",
    "    def configure_optimizers(self):\n",
    "        return self.optim(self.network.parameters(), lr=self.lr)\n",
    "\n",
    "    def training_step(self, train_batch, batch_idx, prefix=\"\"):\n",
    "        x, y = train_batch\n",
    "        # assert x.shape[1] == 1, x.shape\n",
    "        logits = self.forward(x)\n",
    "        closs = F.cross_entropy(logits, y)\n",
    "        pvec = F.softmax(logits, dim=1).sum(0)\n",
    "        pvec = pvec / pvec.sum()\n",
    "        ploss = ((pvec - 1.0 / len(pvec))**2).sum()\n",
    "        loss = closs + 500.0 * ploss\n",
    "        acc = self.accuracy(logits, y)\n",
    "        self.log(prefix + \"loss\", loss)\n",
    "        self.log(prefix + \"ploss\", ploss)\n",
    "        self.log(prefix + \"closs\", closs)\n",
    "        self.log(prefix + \"acc\", acc)\n",
    "        return loss\n",
    "\n",
    "    def validation_step(self, batch, batch_idx):\n",
    "        return self.training_step(batch, batch_idx, prefix=\"val_\")"
   ]
  },
  {
   "cell_type": "code",
   "execution_count": 5,
   "metadata": {},
   "outputs": [
    {
     "name": "stdout",
     "output_type": "stream",
     "text": [
      "torch.Size([256, 1, 28, 28]) torch.Size([256, 100])\n"
     ]
    }
   ],
   "source": [
    "nclasses = 100\n",
    "network = nn.Sequential(\n",
    "    nn.Flatten(), \n",
    "    flex.Linear(100), nn.Sigmoid(),\n",
    "    flex.Linear(nclasses),\n",
    ")\n",
    "\n",
    "flex.shape_inference(network, (4, 1, 28, 28))\n",
    "xs, ys = next(iter(train_loader))\n",
    "print(xs.shape, network(xs).shape)"
   ]
  },
  {
   "cell_type": "code",
   "execution_count": 6,
   "metadata": {},
   "outputs": [],
   "source": [
    "def reassign(c, deltas):\n",
    "    if deltas[c] <= 0:\n",
    "        return int(c)\n",
    "    choices = np.where(deltas < 0)[0]\n",
    "    if len(choices) == 0:\n",
    "        return int(c)\n",
    "    to = np.random.choice(choices)\n",
    "    deltas[c] -= 1\n",
    "    deltas[to] += 1\n",
    "    return int(to)"
   ]
  },
  {
   "cell_type": "code",
   "execution_count": 7,
   "metadata": {},
   "outputs": [],
   "source": [
    "from random import randrange\n",
    "fakeds = [(image, randrange(0, nclasses)) for image in images]\n",
    "\n",
    "def reassign_ds(ds, excess=1.5):\n",
    "    classes = [x[1] for x in ds]\n",
    "    threshold = excess * len(classes) / nclasses\n",
    "    deltas = np.bincount(classes, minlength=nclasses) - threshold\n",
    "    print(\"deltas\", deltas)\n",
    "    result = [(x[0], reassign(x[1], deltas)) for x in ds]\n",
    "    changed = np.sum(np.array([x[1] for x in result]) != np.array([x[1] for x in ds]))\n",
    "    print(\"changed\", changed)\n",
    "    return result"
   ]
  },
  {
   "cell_type": "code",
   "execution_count": 16,
   "metadata": {},
   "outputs": [
    {
     "name": "stdout",
     "output_type": "stream",
     "text": [
      "deltas [-0.09 -0.09 -0.09 -0.09 -0.09  0.91 -0.09 -0.09 -0.09 -0.09 -0.09 -0.09\n",
      " -0.09 -0.09 -0.09 -0.09 -0.09 -0.09 -0.09 -0.09 -0.09 -0.09 -0.09 -0.09\n",
      " -0.09 -0.09  0.91  0.91 -0.09 -0.09 -0.09 -0.09 -0.09 -0.09 -0.09 -0.09\n",
      " -0.09 -0.09 -0.09 -0.09 -0.09 -0.09 -0.09 -0.09 -0.09 -0.09 -0.09 -0.09\n",
      " -0.09 -0.09 -0.09  0.91 -0.09 -0.09 -0.09 -0.09 -0.09 -0.09 -0.09 -0.09\n",
      " -0.09 -0.09 -0.09 -0.09 -0.09 -0.09 -0.09 -0.09 -0.09  0.91 -0.09 -0.09\n",
      " -0.09 -0.09 -0.09 -0.09 -0.09 -0.09 -0.09 -0.09 -0.09  0.91 -0.09 -0.09\n",
      " -0.09 -0.09 -0.09 -0.09 -0.09 -0.09 -0.09 -0.09 -0.09 -0.09 -0.09 -0.09\n",
      " -0.09 -0.09 -0.09 -0.09]\n",
      "changed 6\n",
      "*** Round 0\n",
      "torch.Size([6, 28, 28, 1]) torch.Size([6, 100])\n"
     ]
    },
    {
     "name": "stderr",
     "output_type": "stream",
     "text": [
      "GPU available: True (cuda), used: False\n",
      "TPU available: False, using: 0 TPU cores\n",
      "IPU available: False, using: 0 IPUs\n",
      "HPU available: False, using: 0 HPUs\n",
      "\n",
      "  | Name     | Type       | Params\n",
      "----------------------------------------\n",
      "0 | network  | Sequential | 88.6 K\n",
      "1 | accuracy | Accuracy   | 0     \n",
      "----------------------------------------\n",
      "88.6 K    Trainable params\n",
      "0         Non-trainable params\n",
      "88.6 K    Total params\n",
      "0.354     Total estimated model params size (MB)\n",
      "/home/tmb/tutorials/dl-2022/venv/lib/python3.10/site-packages/pytorch_lightning/trainer/trainer.py:1892: PossibleUserWarning: The number of training batches (1) is smaller than the logging interval Trainer(log_every_n_steps=50). Set a lower value for log_every_n_steps if you want to see logs for the training epoch.\n",
      "  rank_zero_warn(\n"
     ]
    },
    {
     "data": {
      "application/vnd.jupyter.widget-view+json": {
       "model_id": "e27145ffc9dc497f9c0911b8b0c014af",
       "version_major": 2,
       "version_minor": 0
      },
      "text/plain": [
       "Training: 0it [00:00, ?it/s]"
      ]
     },
     "metadata": {},
     "output_type": "display_data"
    },
    {
     "name": "stderr",
     "output_type": "stream",
     "text": [
      "`Trainer.fit` stopped: `max_epochs=5` reached.\n"
     ]
    },
    {
     "data": {
      "application/vnd.jupyter.widget-view+json": {
       "model_id": "ea2d1504765541ad881b1577669b85eb",
       "version_major": 2,
       "version_minor": 0
      },
      "text/plain": [
       "Validation: 0it [00:00, ?it/s]"
      ]
     },
     "metadata": {},
     "output_type": "display_data"
    },
    {
     "name": "stdout",
     "output_type": "stream",
     "text": [
      "────────────────────────────────────────────────────────────────────────────────────────────────────────────────────────\n",
      "     Validate metric           DataLoader 0\n",
      "────────────────────────────────────────────────────────────────────────────────────────────────────────────────────────\n",
      "         val_acc            0.1666666716337204\n",
      "        val_closs            5.242298603057861\n",
      "        val_loss             5.312229633331299\n",
      "        val_ploss         0.00013986242993269116\n",
      "────────────────────────────────────────────────────────────────────────────────────────────────────────────────────────\n",
      "deltas [-0.09 -0.09 -0.09 -0.09 -0.09 -0.09 -0.09 -0.09 -0.09 -0.09 -0.09 -0.09\n",
      " -0.09 -0.09 -0.09 -0.09 -0.09 -0.09 -0.09 -0.09 -0.09 -0.09  0.91 -0.09\n",
      " -0.09 -0.09 -0.09 -0.09 -0.09 -0.09 -0.09 -0.09 -0.09 -0.09 -0.09 -0.09\n",
      "  0.91 -0.09 -0.09 -0.09 -0.09 -0.09 -0.09 -0.09 -0.09 -0.09 -0.09 -0.09\n",
      " -0.09  0.91 -0.09 -0.09 -0.09  0.91 -0.09 -0.09 -0.09 -0.09 -0.09 -0.09\n",
      " -0.09 -0.09 -0.09 -0.09 -0.09 -0.09 -0.09 -0.09 -0.09 -0.09 -0.09 -0.09\n",
      " -0.09 -0.09 -0.09 -0.09 -0.09 -0.09 -0.09 -0.09 -0.09 -0.09 -0.09 -0.09\n",
      " -0.09  0.91 -0.09 -0.09 -0.09 -0.09 -0.09 -0.09 -0.09 -0.09  0.91 -0.09\n",
      " -0.09 -0.09 -0.09 -0.09]\n",
      "changed 6\n",
      "*** Round 1\n",
      "torch.Size([6, 28, 28, 1]) torch.Size([6, 100])\n"
     ]
    },
    {
     "name": "stderr",
     "output_type": "stream",
     "text": [
      "GPU available: True (cuda), used: False\n",
      "TPU available: False, using: 0 TPU cores\n",
      "IPU available: False, using: 0 IPUs\n",
      "HPU available: False, using: 0 HPUs\n",
      "\n",
      "  | Name     | Type       | Params\n",
      "----------------------------------------\n",
      "0 | network  | Sequential | 88.6 K\n",
      "1 | accuracy | Accuracy   | 0     \n",
      "----------------------------------------\n",
      "88.6 K    Trainable params\n",
      "0         Non-trainable params\n",
      "88.6 K    Total params\n",
      "0.354     Total estimated model params size (MB)\n"
     ]
    },
    {
     "data": {
      "application/vnd.jupyter.widget-view+json": {
       "model_id": "1690565c25254c0ea079d4dcfbd5cc80",
       "version_major": 2,
       "version_minor": 0
      },
      "text/plain": [
       "Training: 0it [00:00, ?it/s]"
      ]
     },
     "metadata": {},
     "output_type": "display_data"
    },
    {
     "name": "stderr",
     "output_type": "stream",
     "text": [
      "`Trainer.fit` stopped: `max_epochs=5` reached.\n"
     ]
    },
    {
     "data": {
      "application/vnd.jupyter.widget-view+json": {
       "model_id": "342057e57a81481189f5a632eeaa5fc0",
       "version_major": 2,
       "version_minor": 0
      },
      "text/plain": [
       "Validation: 0it [00:00, ?it/s]"
      ]
     },
     "metadata": {},
     "output_type": "display_data"
    },
    {
     "name": "stdout",
     "output_type": "stream",
     "text": [
      "────────────────────────────────────────────────────────────────────────────────────────────────────────────────────────\n",
      "     Validate metric           DataLoader 0\n",
      "────────────────────────────────────────────────────────────────────────────────────────────────────────────────────────\n",
      "         val_acc            0.3333333432674408\n",
      "        val_closs            4.082369327545166\n",
      "        val_loss             4.261728763580322\n",
      "        val_ploss         0.00035871900035999715\n",
      "────────────────────────────────────────────────────────────────────────────────────────────────────────────────────────\n",
      "deltas [-0.09 -0.09 -0.09 -0.09 -0.09 -0.09  0.91 -0.09 -0.09 -0.09 -0.09 -0.09\n",
      " -0.09 -0.09 -0.09 -0.09  0.91 -0.09 -0.09 -0.09 -0.09 -0.09 -0.09 -0.09\n",
      " -0.09 -0.09 -0.09 -0.09 -0.09 -0.09 -0.09 -0.09 -0.09 -0.09 -0.09 -0.09\n",
      " -0.09 -0.09 -0.09 -0.09 -0.09 -0.09 -0.09 -0.09 -0.09 -0.09 -0.09 -0.09\n",
      " -0.09 -0.09 -0.09 -0.09 -0.09 -0.09 -0.09 -0.09 -0.09 -0.09 -0.09 -0.09\n",
      " -0.09  0.91 -0.09 -0.09 -0.09  0.91 -0.09 -0.09 -0.09 -0.09 -0.09 -0.09\n",
      " -0.09 -0.09 -0.09 -0.09  0.91 -0.09 -0.09  0.91 -0.09 -0.09 -0.09 -0.09\n",
      " -0.09 -0.09 -0.09 -0.09 -0.09 -0.09 -0.09 -0.09 -0.09 -0.09 -0.09 -0.09\n",
      " -0.09 -0.09 -0.09 -0.09]\n",
      "changed 6\n",
      "*** Round 2\n",
      "torch.Size([6, 28, 28, 1]) torch.Size([6, 100])\n"
     ]
    },
    {
     "name": "stderr",
     "output_type": "stream",
     "text": [
      "GPU available: True (cuda), used: False\n",
      "TPU available: False, using: 0 TPU cores\n",
      "IPU available: False, using: 0 IPUs\n",
      "HPU available: False, using: 0 HPUs\n",
      "\n",
      "  | Name     | Type       | Params\n",
      "----------------------------------------\n",
      "0 | network  | Sequential | 88.6 K\n",
      "1 | accuracy | Accuracy   | 0     \n",
      "----------------------------------------\n",
      "88.6 K    Trainable params\n",
      "0         Non-trainable params\n",
      "88.6 K    Total params\n",
      "0.354     Total estimated model params size (MB)\n"
     ]
    },
    {
     "data": {
      "application/vnd.jupyter.widget-view+json": {
       "model_id": "ab88788b91f64290b64f914588e0efc7",
       "version_major": 2,
       "version_minor": 0
      },
      "text/plain": [
       "Training: 0it [00:00, ?it/s]"
      ]
     },
     "metadata": {},
     "output_type": "display_data"
    },
    {
     "name": "stderr",
     "output_type": "stream",
     "text": [
      "`Trainer.fit` stopped: `max_epochs=5` reached.\n"
     ]
    },
    {
     "data": {
      "application/vnd.jupyter.widget-view+json": {
       "model_id": "1489a90173164b0e84e7347a6824e0fb",
       "version_major": 2,
       "version_minor": 0
      },
      "text/plain": [
       "Validation: 0it [00:00, ?it/s]"
      ]
     },
     "metadata": {},
     "output_type": "display_data"
    },
    {
     "name": "stdout",
     "output_type": "stream",
     "text": [
      "────────────────────────────────────────────────────────────────────────────────────────────────────────────────────────\n",
      "     Validate metric           DataLoader 0\n",
      "────────────────────────────────────────────────────────────────────────────────────────────────────────────────────────\n",
      "         val_acc            0.3333333432674408\n",
      "        val_closs            4.100127696990967\n",
      "        val_loss             4.276227951049805\n",
      "        val_ploss         0.00035220023710280657\n",
      "────────────────────────────────────────────────────────────────────────────────────────────────────────────────────────\n",
      "deltas [-0.09  0.91 -0.09 -0.09 -0.09 -0.09 -0.09 -0.09 -0.09 -0.09 -0.09 -0.09\n",
      " -0.09 -0.09 -0.09 -0.09 -0.09 -0.09 -0.09 -0.09 -0.09 -0.09 -0.09 -0.09\n",
      " -0.09 -0.09 -0.09  0.91 -0.09 -0.09 -0.09 -0.09 -0.09 -0.09 -0.09 -0.09\n",
      " -0.09 -0.09 -0.09 -0.09 -0.09 -0.09 -0.09 -0.09 -0.09 -0.09 -0.09 -0.09\n",
      "  0.91 -0.09 -0.09 -0.09 -0.09 -0.09 -0.09 -0.09 -0.09 -0.09 -0.09 -0.09\n",
      " -0.09 -0.09 -0.09 -0.09 -0.09 -0.09 -0.09 -0.09 -0.09 -0.09 -0.09 -0.09\n",
      " -0.09 -0.09 -0.09 -0.09 -0.09 -0.09  0.91 -0.09 -0.09 -0.09 -0.09 -0.09\n",
      " -0.09 -0.09 -0.09  0.91 -0.09 -0.09 -0.09 -0.09  0.91 -0.09 -0.09 -0.09\n",
      " -0.09 -0.09 -0.09 -0.09]\n",
      "changed 6\n",
      "*** Round 3\n",
      "torch.Size([6, 28, 28, 1]) torch.Size([6, 100])\n"
     ]
    },
    {
     "name": "stderr",
     "output_type": "stream",
     "text": [
      "GPU available: True (cuda), used: False\n",
      "TPU available: False, using: 0 TPU cores\n",
      "IPU available: False, using: 0 IPUs\n",
      "HPU available: False, using: 0 HPUs\n",
      "\n",
      "  | Name     | Type       | Params\n",
      "----------------------------------------\n",
      "0 | network  | Sequential | 88.6 K\n",
      "1 | accuracy | Accuracy   | 0     \n",
      "----------------------------------------\n",
      "88.6 K    Trainable params\n",
      "0         Non-trainable params\n",
      "88.6 K    Total params\n",
      "0.354     Total estimated model params size (MB)\n"
     ]
    },
    {
     "data": {
      "application/vnd.jupyter.widget-view+json": {
       "model_id": "81fe667fb59e4412b237743102c73e11",
       "version_major": 2,
       "version_minor": 0
      },
      "text/plain": [
       "Training: 0it [00:00, ?it/s]"
      ]
     },
     "metadata": {},
     "output_type": "display_data"
    },
    {
     "name": "stderr",
     "output_type": "stream",
     "text": [
      "`Trainer.fit` stopped: `max_epochs=5` reached.\n"
     ]
    },
    {
     "data": {
      "application/vnd.jupyter.widget-view+json": {
       "model_id": "1f3f1deb10594589b245eaf6d61b7261",
       "version_major": 2,
       "version_minor": 0
      },
      "text/plain": [
       "Validation: 0it [00:00, ?it/s]"
      ]
     },
     "metadata": {},
     "output_type": "display_data"
    },
    {
     "name": "stdout",
     "output_type": "stream",
     "text": [
      "────────────────────────────────────────────────────────────────────────────────────────────────────────────────────────\n",
      "     Validate metric           DataLoader 0\n",
      "────────────────────────────────────────────────────────────────────────────────────────────────────────────────────────\n",
      "         val_acc            0.1666666716337204\n",
      "        val_closs            4.087677478790283\n",
      "        val_loss             4.264798164367676\n",
      "        val_ploss         0.00035424125962890685\n",
      "────────────────────────────────────────────────────────────────────────────────────────────────────────────────────────\n",
      "deltas [-0.09 -0.09 -0.09 -0.09 -0.09 -0.09 -0.09 -0.09 -0.09 -0.09 -0.09 -0.09\n",
      " -0.09 -0.09 -0.09 -0.09 -0.09 -0.09 -0.09 -0.09 -0.09 -0.09 -0.09 -0.09\n",
      " -0.09 -0.09 -0.09 -0.09 -0.09 -0.09 -0.09  0.91 -0.09 -0.09 -0.09 -0.09\n",
      " -0.09 -0.09 -0.09 -0.09 -0.09 -0.09 -0.09 -0.09 -0.09  0.91 -0.09 -0.09\n",
      " -0.09  0.91 -0.09 -0.09 -0.09 -0.09 -0.09 -0.09 -0.09 -0.09 -0.09 -0.09\n",
      " -0.09  0.91 -0.09 -0.09 -0.09 -0.09  0.91 -0.09 -0.09 -0.09 -0.09 -0.09\n",
      " -0.09 -0.09 -0.09  0.91 -0.09 -0.09 -0.09 -0.09 -0.09 -0.09 -0.09 -0.09\n",
      " -0.09 -0.09 -0.09 -0.09 -0.09 -0.09 -0.09 -0.09 -0.09 -0.09 -0.09 -0.09\n",
      " -0.09 -0.09 -0.09 -0.09]\n",
      "changed 6\n",
      "*** Round 4\n",
      "torch.Size([6, 28, 28, 1]) torch.Size([6, 100])\n"
     ]
    },
    {
     "name": "stderr",
     "output_type": "stream",
     "text": [
      "GPU available: True (cuda), used: False\n",
      "TPU available: False, using: 0 TPU cores\n",
      "IPU available: False, using: 0 IPUs\n",
      "HPU available: False, using: 0 HPUs\n",
      "\n",
      "  | Name     | Type       | Params\n",
      "----------------------------------------\n",
      "0 | network  | Sequential | 88.6 K\n",
      "1 | accuracy | Accuracy   | 0     \n",
      "----------------------------------------\n",
      "88.6 K    Trainable params\n",
      "0         Non-trainable params\n",
      "88.6 K    Total params\n",
      "0.354     Total estimated model params size (MB)\n"
     ]
    },
    {
     "data": {
      "application/vnd.jupyter.widget-view+json": {
       "model_id": "43c22ec0e7e24c15b1c40b75a0b80342",
       "version_major": 2,
       "version_minor": 0
      },
      "text/plain": [
       "Training: 0it [00:00, ?it/s]"
      ]
     },
     "metadata": {},
     "output_type": "display_data"
    },
    {
     "name": "stderr",
     "output_type": "stream",
     "text": [
      "`Trainer.fit` stopped: `max_epochs=5` reached.\n"
     ]
    },
    {
     "data": {
      "application/vnd.jupyter.widget-view+json": {
       "model_id": "32b2f2f9456748d6bd697a251e0e007f",
       "version_major": 2,
       "version_minor": 0
      },
      "text/plain": [
       "Validation: 0it [00:00, ?it/s]"
      ]
     },
     "metadata": {},
     "output_type": "display_data"
    },
    {
     "name": "stdout",
     "output_type": "stream",
     "text": [
      "────────────────────────────────────────────────────────────────────────────────────────────────────────────────────────\n",
      "     Validate metric           DataLoader 0\n",
      "────────────────────────────────────────────────────────────────────────────────────────────────────────────────────────\n",
      "         val_acc            0.1666666716337204\n",
      "        val_closs           4.1095991134643555\n",
      "        val_loss             4.270750999450684\n",
      "        val_ploss          0.0003223042003810406\n",
      "────────────────────────────────────────────────────────────────────────────────────────────────────────────────────────\n",
      "deltas [-0.09 -0.09 -0.09 -0.09 -0.09 -0.09 -0.09 -0.09 -0.09 -0.09 -0.09 -0.09\n",
      " -0.09 -0.09 -0.09 -0.09 -0.09 -0.09 -0.09  0.91 -0.09 -0.09 -0.09 -0.09\n",
      " -0.09 -0.09 -0.09 -0.09 -0.09 -0.09 -0.09 -0.09 -0.09 -0.09 -0.09 -0.09\n",
      " -0.09 -0.09 -0.09 -0.09 -0.09 -0.09 -0.09 -0.09 -0.09 -0.09 -0.09 -0.09\n",
      " -0.09 -0.09 -0.09 -0.09 -0.09 -0.09 -0.09 -0.09 -0.09 -0.09 -0.09 -0.09\n",
      " -0.09 -0.09 -0.09  0.91 -0.09 -0.09 -0.09 -0.09 -0.09  0.91 -0.09 -0.09\n",
      " -0.09 -0.09 -0.09 -0.09 -0.09 -0.09 -0.09 -0.09 -0.09 -0.09 -0.09 -0.09\n",
      " -0.09 -0.09 -0.09 -0.09 -0.09 -0.09 -0.09  0.91 -0.09 -0.09 -0.09  0.91\n",
      " -0.09  0.91 -0.09 -0.09]\n",
      "changed 6\n",
      "*** Round 5\n",
      "torch.Size([6, 28, 28, 1]) torch.Size([6, 100])\n"
     ]
    },
    {
     "name": "stderr",
     "output_type": "stream",
     "text": [
      "GPU available: True (cuda), used: False\n",
      "TPU available: False, using: 0 TPU cores\n",
      "IPU available: False, using: 0 IPUs\n",
      "HPU available: False, using: 0 HPUs\n",
      "\n",
      "  | Name     | Type       | Params\n",
      "----------------------------------------\n",
      "0 | network  | Sequential | 88.6 K\n",
      "1 | accuracy | Accuracy   | 0     \n",
      "----------------------------------------\n",
      "88.6 K    Trainable params\n",
      "0         Non-trainable params\n",
      "88.6 K    Total params\n",
      "0.354     Total estimated model params size (MB)\n"
     ]
    },
    {
     "data": {
      "application/vnd.jupyter.widget-view+json": {
       "model_id": "880d78255ea8496d8e84f266b04e06c1",
       "version_major": 2,
       "version_minor": 0
      },
      "text/plain": [
       "Training: 0it [00:00, ?it/s]"
      ]
     },
     "metadata": {},
     "output_type": "display_data"
    },
    {
     "name": "stderr",
     "output_type": "stream",
     "text": [
      "`Trainer.fit` stopped: `max_epochs=5` reached.\n"
     ]
    },
    {
     "data": {
      "application/vnd.jupyter.widget-view+json": {
       "model_id": "89f24277cd59440b8c85d219c1e02d5f",
       "version_major": 2,
       "version_minor": 0
      },
      "text/plain": [
       "Validation: 0it [00:00, ?it/s]"
      ]
     },
     "metadata": {},
     "output_type": "display_data"
    },
    {
     "name": "stdout",
     "output_type": "stream",
     "text": [
      "────────────────────────────────────────────────────────────────────────────────────────────────────────────────────────\n",
      "     Validate metric           DataLoader 0\n",
      "────────────────────────────────────────────────────────────────────────────────────────────────────────────────────────\n",
      "         val_acc            0.3333333432674408\n",
      "        val_closs            4.090214252471924\n",
      "        val_loss             4.256727695465088\n",
      "        val_ploss         0.00033302666270174086\n",
      "────────────────────────────────────────────────────────────────────────────────────────────────────────────────────────\n",
      "deltas [-0.09 -0.09 -0.09  0.91 -0.09 -0.09 -0.09 -0.09 -0.09 -0.09 -0.09 -0.09\n",
      " -0.09 -0.09 -0.09 -0.09 -0.09  0.91 -0.09  0.91 -0.09  0.91 -0.09 -0.09\n",
      " -0.09 -0.09 -0.09 -0.09 -0.09 -0.09 -0.09 -0.09 -0.09 -0.09 -0.09 -0.09\n",
      " -0.09 -0.09 -0.09  0.91 -0.09 -0.09 -0.09 -0.09 -0.09 -0.09 -0.09 -0.09\n",
      " -0.09 -0.09 -0.09 -0.09 -0.09 -0.09 -0.09 -0.09 -0.09 -0.09 -0.09 -0.09\n",
      " -0.09 -0.09 -0.09 -0.09 -0.09 -0.09 -0.09 -0.09 -0.09 -0.09 -0.09 -0.09\n",
      " -0.09 -0.09 -0.09 -0.09 -0.09 -0.09 -0.09 -0.09 -0.09 -0.09 -0.09 -0.09\n",
      " -0.09 -0.09 -0.09 -0.09 -0.09  0.91 -0.09 -0.09 -0.09 -0.09 -0.09 -0.09\n",
      " -0.09 -0.09 -0.09 -0.09]\n",
      "changed 6\n",
      "*** Round 6\n",
      "torch.Size([6, 28, 28, 1]) torch.Size([6, 100])\n"
     ]
    },
    {
     "name": "stderr",
     "output_type": "stream",
     "text": [
      "GPU available: True (cuda), used: False\n",
      "TPU available: False, using: 0 TPU cores\n",
      "IPU available: False, using: 0 IPUs\n",
      "HPU available: False, using: 0 HPUs\n",
      "\n",
      "  | Name     | Type       | Params\n",
      "----------------------------------------\n",
      "0 | network  | Sequential | 88.6 K\n",
      "1 | accuracy | Accuracy   | 0     \n",
      "----------------------------------------\n",
      "88.6 K    Trainable params\n",
      "0         Non-trainable params\n",
      "88.6 K    Total params\n",
      "0.354     Total estimated model params size (MB)\n"
     ]
    },
    {
     "data": {
      "application/vnd.jupyter.widget-view+json": {
       "model_id": "f974d07083374436b1d95e2184d77557",
       "version_major": 2,
       "version_minor": 0
      },
      "text/plain": [
       "Training: 0it [00:00, ?it/s]"
      ]
     },
     "metadata": {},
     "output_type": "display_data"
    },
    {
     "name": "stderr",
     "output_type": "stream",
     "text": [
      "`Trainer.fit` stopped: `max_epochs=5` reached.\n"
     ]
    },
    {
     "data": {
      "application/vnd.jupyter.widget-view+json": {
       "model_id": "acfe17b7fa1b46cc8f8135b0bc07521b",
       "version_major": 2,
       "version_minor": 0
      },
      "text/plain": [
       "Validation: 0it [00:00, ?it/s]"
      ]
     },
     "metadata": {},
     "output_type": "display_data"
    },
    {
     "name": "stdout",
     "output_type": "stream",
     "text": [
      "────────────────────────────────────────────────────────────────────────────────────────────────────────────────────────\n",
      "     Validate metric           DataLoader 0\n",
      "────────────────────────────────────────────────────────────────────────────────────────────────────────────────────────\n",
      "         val_acc            0.3333333432674408\n",
      "        val_closs           4.1113457679748535\n",
      "        val_loss             4.246022701263428\n",
      "        val_ploss         0.00026935359346680343\n",
      "────────────────────────────────────────────────────────────────────────────────────────────────────────────────────────\n",
      "deltas [-0.09 -0.09 -0.09 -0.09 -0.09 -0.09 -0.09 -0.09 -0.09 -0.09 -0.09 -0.09\n",
      " -0.09  0.91 -0.09 -0.09 -0.09 -0.09 -0.09 -0.09 -0.09 -0.09  0.91  0.91\n",
      " -0.09 -0.09 -0.09 -0.09 -0.09 -0.09 -0.09 -0.09 -0.09 -0.09 -0.09 -0.09\n",
      " -0.09 -0.09 -0.09 -0.09 -0.09 -0.09 -0.09  0.91 -0.09 -0.09 -0.09 -0.09\n",
      " -0.09 -0.09 -0.09 -0.09 -0.09 -0.09 -0.09 -0.09 -0.09 -0.09 -0.09 -0.09\n",
      " -0.09 -0.09 -0.09 -0.09 -0.09 -0.09 -0.09 -0.09 -0.09  0.91 -0.09 -0.09\n",
      " -0.09 -0.09 -0.09 -0.09 -0.09 -0.09 -0.09 -0.09 -0.09 -0.09 -0.09 -0.09\n",
      " -0.09 -0.09 -0.09 -0.09  0.91 -0.09 -0.09 -0.09 -0.09 -0.09 -0.09 -0.09\n",
      " -0.09 -0.09 -0.09 -0.09]\n",
      "changed 6\n",
      "*** Round 7\n",
      "torch.Size([6, 28, 28, 1]) torch.Size([6, 100])\n"
     ]
    },
    {
     "name": "stderr",
     "output_type": "stream",
     "text": [
      "GPU available: True (cuda), used: False\n",
      "TPU available: False, using: 0 TPU cores\n",
      "IPU available: False, using: 0 IPUs\n",
      "HPU available: False, using: 0 HPUs\n",
      "\n",
      "  | Name     | Type       | Params\n",
      "----------------------------------------\n",
      "0 | network  | Sequential | 88.6 K\n",
      "1 | accuracy | Accuracy   | 0     \n",
      "----------------------------------------\n",
      "88.6 K    Trainable params\n",
      "0         Non-trainable params\n",
      "88.6 K    Total params\n",
      "0.354     Total estimated model params size (MB)\n"
     ]
    },
    {
     "data": {
      "application/vnd.jupyter.widget-view+json": {
       "model_id": "f3938926fbf54bab92c24cf42b1151f9",
       "version_major": 2,
       "version_minor": 0
      },
      "text/plain": [
       "Training: 0it [00:00, ?it/s]"
      ]
     },
     "metadata": {},
     "output_type": "display_data"
    },
    {
     "name": "stderr",
     "output_type": "stream",
     "text": [
      "`Trainer.fit` stopped: `max_epochs=5` reached.\n"
     ]
    },
    {
     "data": {
      "application/vnd.jupyter.widget-view+json": {
       "model_id": "0ac0f66c7020402984356ebc9b0cd2b3",
       "version_major": 2,
       "version_minor": 0
      },
      "text/plain": [
       "Validation: 0it [00:00, ?it/s]"
      ]
     },
     "metadata": {},
     "output_type": "display_data"
    },
    {
     "name": "stdout",
     "output_type": "stream",
     "text": [
      "────────────────────────────────────────────────────────────────────────────────────────────────────────────────────────\n",
      "     Validate metric           DataLoader 0\n",
      "────────────────────────────────────────────────────────────────────────────────────────────────────────────────────────\n",
      "         val_acc            0.1666666716337204\n",
      "        val_closs            4.134180545806885\n",
      "        val_loss             4.283152103424072\n",
      "        val_ploss          0.0002979430428240448\n",
      "────────────────────────────────────────────────────────────────────────────────────────────────────────────────────────\n",
      "deltas [-0.09 -0.09 -0.09 -0.09 -0.09 -0.09 -0.09 -0.09 -0.09 -0.09 -0.09  0.91\n",
      " -0.09 -0.09 -0.09 -0.09 -0.09 -0.09 -0.09 -0.09 -0.09 -0.09  0.91 -0.09\n",
      " -0.09 -0.09 -0.09 -0.09 -0.09 -0.09 -0.09 -0.09 -0.09 -0.09 -0.09 -0.09\n",
      " -0.09 -0.09 -0.09 -0.09  0.91 -0.09 -0.09 -0.09 -0.09 -0.09  0.91 -0.09\n",
      " -0.09  0.91 -0.09 -0.09 -0.09 -0.09 -0.09 -0.09 -0.09 -0.09 -0.09 -0.09\n",
      " -0.09 -0.09 -0.09 -0.09 -0.09 -0.09 -0.09 -0.09 -0.09 -0.09 -0.09 -0.09\n",
      " -0.09 -0.09 -0.09 -0.09 -0.09 -0.09 -0.09 -0.09 -0.09  0.91 -0.09 -0.09\n",
      " -0.09 -0.09 -0.09 -0.09 -0.09 -0.09 -0.09 -0.09 -0.09 -0.09 -0.09 -0.09\n",
      " -0.09 -0.09 -0.09 -0.09]\n",
      "changed 6\n",
      "*** Round 8\n",
      "torch.Size([6, 28, 28, 1]) torch.Size([6, 100])\n"
     ]
    },
    {
     "name": "stderr",
     "output_type": "stream",
     "text": [
      "GPU available: True (cuda), used: False\n",
      "TPU available: False, using: 0 TPU cores\n",
      "IPU available: False, using: 0 IPUs\n",
      "HPU available: False, using: 0 HPUs\n",
      "\n",
      "  | Name     | Type       | Params\n",
      "----------------------------------------\n",
      "0 | network  | Sequential | 88.6 K\n",
      "1 | accuracy | Accuracy   | 0     \n",
      "----------------------------------------\n",
      "88.6 K    Trainable params\n",
      "0         Non-trainable params\n",
      "88.6 K    Total params\n",
      "0.354     Total estimated model params size (MB)\n"
     ]
    },
    {
     "data": {
      "application/vnd.jupyter.widget-view+json": {
       "model_id": "896c88db5b9a496e9e105846be533b15",
       "version_major": 2,
       "version_minor": 0
      },
      "text/plain": [
       "Training: 0it [00:00, ?it/s]"
      ]
     },
     "metadata": {},
     "output_type": "display_data"
    },
    {
     "name": "stderr",
     "output_type": "stream",
     "text": [
      "`Trainer.fit` stopped: `max_epochs=5` reached.\n"
     ]
    },
    {
     "data": {
      "application/vnd.jupyter.widget-view+json": {
       "model_id": "f0898564811a4cb2bdbff17e6ff36ccd",
       "version_major": 2,
       "version_minor": 0
      },
      "text/plain": [
       "Validation: 0it [00:00, ?it/s]"
      ]
     },
     "metadata": {},
     "output_type": "display_data"
    },
    {
     "name": "stdout",
     "output_type": "stream",
     "text": [
      "────────────────────────────────────────────────────────────────────────────────────────────────────────────────────────\n",
      "     Validate metric           DataLoader 0\n",
      "────────────────────────────────────────────────────────────────────────────────────────────────────────────────────────\n",
      "         val_acc            0.3333333432674408\n",
      "        val_closs            4.093245983123779\n",
      "        val_loss             4.248083114624023\n",
      "        val_ploss          0.0003096739819739014\n",
      "────────────────────────────────────────────────────────────────────────────────────────────────────────────────────────\n",
      "deltas [-0.09 -0.09 -0.09 -0.09 -0.09 -0.09 -0.09 -0.09  0.91 -0.09 -0.09  0.91\n",
      " -0.09 -0.09 -0.09 -0.09 -0.09 -0.09 -0.09 -0.09  0.91 -0.09 -0.09 -0.09\n",
      " -0.09 -0.09 -0.09 -0.09 -0.09 -0.09  0.91 -0.09 -0.09 -0.09 -0.09 -0.09\n",
      " -0.09 -0.09 -0.09 -0.09 -0.09 -0.09 -0.09 -0.09 -0.09 -0.09 -0.09 -0.09\n",
      " -0.09 -0.09 -0.09 -0.09 -0.09 -0.09 -0.09 -0.09 -0.09 -0.09 -0.09 -0.09\n",
      " -0.09 -0.09 -0.09 -0.09 -0.09 -0.09 -0.09 -0.09 -0.09 -0.09 -0.09 -0.09\n",
      " -0.09 -0.09 -0.09 -0.09 -0.09 -0.09 -0.09 -0.09  0.91 -0.09 -0.09 -0.09\n",
      " -0.09 -0.09 -0.09 -0.09 -0.09  0.91 -0.09 -0.09 -0.09 -0.09 -0.09 -0.09\n",
      " -0.09 -0.09 -0.09 -0.09]\n",
      "changed 6\n",
      "*** Round 9\n",
      "torch.Size([6, 28, 28, 1]) torch.Size([6, 100])\n"
     ]
    },
    {
     "name": "stderr",
     "output_type": "stream",
     "text": [
      "GPU available: True (cuda), used: False\n",
      "TPU available: False, using: 0 TPU cores\n",
      "IPU available: False, using: 0 IPUs\n",
      "HPU available: False, using: 0 HPUs\n",
      "\n",
      "  | Name     | Type       | Params\n",
      "----------------------------------------\n",
      "0 | network  | Sequential | 88.6 K\n",
      "1 | accuracy | Accuracy   | 0     \n",
      "----------------------------------------\n",
      "88.6 K    Trainable params\n",
      "0         Non-trainable params\n",
      "88.6 K    Total params\n",
      "0.354     Total estimated model params size (MB)\n"
     ]
    },
    {
     "data": {
      "application/vnd.jupyter.widget-view+json": {
       "model_id": "9708631322aa47c78591e46541b5809f",
       "version_major": 2,
       "version_minor": 0
      },
      "text/plain": [
       "Training: 0it [00:00, ?it/s]"
      ]
     },
     "metadata": {},
     "output_type": "display_data"
    },
    {
     "name": "stderr",
     "output_type": "stream",
     "text": [
      "`Trainer.fit` stopped: `max_epochs=5` reached.\n"
     ]
    },
    {
     "data": {
      "application/vnd.jupyter.widget-view+json": {
       "model_id": "88ec62cbb4fa4aa3b92071df801234e2",
       "version_major": 2,
       "version_minor": 0
      },
      "text/plain": [
       "Validation: 0it [00:00, ?it/s]"
      ]
     },
     "metadata": {},
     "output_type": "display_data"
    },
    {
     "name": "stdout",
     "output_type": "stream",
     "text": [
      "────────────────────────────────────────────────────────────────────────────────────────────────────────────────────────\n",
      "     Validate metric           DataLoader 0\n",
      "────────────────────────────────────────────────────────────────────────────────────────────────────────────────────────\n",
      "         val_acc            0.3333333432674408\n",
      "        val_closs            4.11632776260376\n",
      "        val_loss             4.246031284332275\n",
      "        val_ploss         0.00025940738851204515\n",
      "────────────────────────────────────────────────────────────────────────────────────────────────────────────────────────\n"
     ]
    }
   ],
   "source": [
    "from random import randrange\n",
    "fakeds = [(image, randrange(0, nclasses)) for image in images]\n",
    "config={\"lr\": 0.8}\n",
    "model = LightningClassifier(network, config)\n",
    "\n",
    "for round in range(10):\n",
    "    fakeds = reassign_ds(fakeds)\n",
    "    print(\"*** Round\", round)\n",
    "    loader = utils.data.DataLoader(fakeds, batch_size=batch_size, shuffle=True, num_workers=0)\n",
    "    xs, ys = next(iter(loader))\n",
    "    print(xs.shape, network(xs).shape)\n",
    "    trainer = pl.Trainer(max_epochs=5)\n",
    "    trainer.fit(model=model, train_dataloaders=loader)\n",
    "    trainer.validate(model=model, dataloaders=loader)\n",
    "    newds = []\n",
    "    loader = utils.data.DataLoader(fakeds, batch_size=batch_size, shuffle=True, num_workers=0)\n",
    "    for xs, _ in loader:\n",
    "        pred = model.network(xs).argmax(dim=1) \n",
    "        for x, p in zip(xs, pred):\n",
    "            newds.append((x, p))"
   ]
  },
  {
   "cell_type": "code",
   "execution_count": 17,
   "metadata": {},
   "outputs": [
    {
     "data": {
      "image/png": "[encoded data removed]",
      "text/plain": [
       "<Figure size 640x480 with 1 Axes>"
      ]
     },
     "metadata": {},
     "output_type": "display_data"
    }
   ],
   "source": [
    "hist([int(y) for _, y in fakeds], bins=nclasses);"
   ]
  },
  {
   "cell_type": "code",
   "execution_count": 18,
   "metadata": {},
   "outputs": [
    {
     "ename": "AttributeError",
     "evalue": "'numpy.ndarray' object has no attribute 'numpy'",
     "output_type": "error",
     "traceback": [
      "\u001b[0;31m---------------------------------------------------------------------------\u001b[0m",
      "\u001b[0;31mAttributeError\u001b[0m                            Traceback (most recent call last)",
      "Cell \u001b[0;32mIn [18], line 3\u001b[0m\n\u001b[1;32m      1\u001b[0m clusters \u001b[39m=\u001b[39m [[] \u001b[39mfor\u001b[39;00m _ \u001b[39min\u001b[39;00m \u001b[39mrange\u001b[39m(nclasses)]\n\u001b[1;32m      2\u001b[0m \u001b[39mfor\u001b[39;00m i, (x, y) \u001b[39min\u001b[39;00m \u001b[39menumerate\u001b[39m(fakeds):\n\u001b[0;32m----> 3\u001b[0m     clusters[y]\u001b[39m.\u001b[39mappend(x[\u001b[39m0\u001b[39;49m]\u001b[39m.\u001b[39;49mnumpy())\n\u001b[1;32m      5\u001b[0m centers \u001b[39m=\u001b[39m [np\u001b[39m.\u001b[39mmean(x, axis\u001b[39m=\u001b[39m\u001b[39m0\u001b[39m) \u001b[39mfor\u001b[39;00m x \u001b[39min\u001b[39;00m clusters]\n\u001b[1;32m      7\u001b[0m order \u001b[39m=\u001b[39m np\u001b[39m.\u001b[39margsort([\u001b[39mlen\u001b[39m(x) \u001b[39mfor\u001b[39;00m x \u001b[39min\u001b[39;00m clusters])[::\u001b[39m-\u001b[39m\u001b[39m1\u001b[39m]\n",
      "\u001b[0;31mAttributeError\u001b[0m: 'numpy.ndarray' object has no attribute 'numpy'"
     ]
    }
   ],
   "source": [
    "clusters = [[] for _ in range(nclasses)]\n",
    "for i, (x, y) in enumerate(fakeds):\n",
    "    clusters[y].append(x[0].numpy())\n",
    "\n",
    "centers = [np.mean(x, axis=0) for x in clusters]\n",
    "    \n",
    "order = np.argsort([len(x) for x in clusters])[::-1]"
   ]
  },
  {
   "cell_type": "code",
   "execution_count": 19,
   "metadata": {},
   "outputs": [],
   "source": [
    "nr=10\n",
    "nc=6\n",
    "for c in order[:10]:\n",
    "    images = np.array(clusters[c])[:nc]\n",
    "    if len(images) < nc:\n",
    "        continue\n",
    "    images = images.reshape(nc, 28, 28, 1)\n",
    "    result = image_grid(images, ncols=nc)\n",
    "    fig = plt.figure(figsize=(8, 8))\n",
    "    plt.imshow(result)"
   ]
  },
  {
   "cell_type": "code",
   "execution_count": null,
   "metadata": {},
   "outputs": [],
   "source": []
  }
 ],
 "metadata": {
  "kernelspec": {
   "display_name": "Python 3.10.6 ('venv': venv)",
   "language": "python",
   "name": "python3"
  },
  "language_info": {
   "codemirror_mode": {
    "name": "ipython",
    "version": 3
   },
   "file_extension": ".py",
   "mimetype": "text/x-python",
   "name": "python",
   "nbconvert_exporter": "python",
   "pygments_lexer": "ipython3",
   "version": "3.10.6"
  },
  "orig_nbformat": 4,
  "vscode": {
   "interpreter": {
    "hash": "cca8c55499ebdf440307852cd2d64ae9656a25099bbca56ed07d24e3e64cfde4"
   }
  }
 },
 "nbformat": 4,
 "nbformat_minor": 2
}
