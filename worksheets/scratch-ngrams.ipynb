{
 "cells": [
  {
   "cell_type": "code",
   "execution_count": 1,
   "metadata": {},
   "outputs": [
    {
     "name": "stderr",
     "output_type": "stream",
     "text": [
      "[nltk_data] Downloading package punkt to /home/tmb/nltk_data...\n",
      "[nltk_data]   Package punkt is already up-to-date!\n"
     ]
    },
    {
     "data": {
      "text/plain": [
       "True"
      ]
     },
     "execution_count": 1,
     "metadata": {},
     "output_type": "execute_result"
    }
   ],
   "source": [
    "\n",
    "from nltk.util import pad_sequence\n",
    "from nltk.util import bigrams\n",
    "from nltk.util import ngrams\n",
    "from nltk.util import everygrams\n",
    "from nltk.lm.preprocessing import pad_both_ends\n",
    "from nltk.lm.preprocessing import flatten\n",
    "from nltk import word_tokenize, sent_tokenize\n",
    "import nltk\n",
    "nltk.download('punkt')"
   ]
  },
  {
   "cell_type": "code",
   "execution_count": 3,
   "metadata": {},
   "outputs": [],
   "source": [
    "shakespeare = open(\"t8.shakespeare.txt\").read()\n",
    "sentences = sent_tokenize(shakespeare)\n",
    "\n",
    "words = [word_tokenize(s) for s in sentences]\n",
    "words[100:110]"
   ]
  },
  {
   "cell_type": "code",
   "execution_count": 4,
   "metadata": {},
   "outputs": [],
   "source": [
    "from nltk.tokenize.treebank import TreebankWordDetokenizer\n",
    "\n",
    "detokenize = TreebankWordDetokenizer().detokenize\n",
    "\n",
    "def generate_sent(model, num_words, random_seed=42):\n",
    "    \"\"\"\n",
    "    :param model: An ngram language model from `nltk.lm.model`.\n",
    "    :param num_words: Max no. of words to generate.\n",
    "    :param random_seed: Seed value for random.\n",
    "    \"\"\"\n",
    "    content = []\n",
    "    for token in model.generate(num_words, random_seed=random_seed):\n",
    "        if token == '<s>':\n",
    "            continue\n",
    "        if token == '</s>':\n",
    "            break\n",
    "        content.append(token)\n",
    "    return detokenize(content)"
   ]
  },
  {
   "cell_type": "code",
   "execution_count": 8,
   "metadata": {},
   "outputs": [],
   "source": [
    "def train(n=3):\n",
    "    from nltk.lm.preprocessing import padded_everygram_pipeline\n",
    "    train_data, padded_sents = padded_everygram_pipeline(n, words)\n",
    "    from nltk.lm import MLE\n",
    "    model = MLE(n)\n",
    "    model.fit(train_data, padded_sents)\n",
    "    return model\n",
    "\n",
    "def generate(model, nresult=10, minlen=30, maxlen=80):\n",
    "    count = 0\n",
    "    seed = 0\n",
    "    while count < nresult:\n",
    "        seed += 1\n",
    "        result = generate_sent(model, num_words=20, random_seed=seed)\n",
    "        if len(result) < minlen or len(result) > maxlen: continue\n",
    "        print(result)\n",
    "        count += 1"
   ]
  },
  {
   "cell_type": "code",
   "execution_count": 9,
   "metadata": {},
   "outputs": [
    {
     "name": "stdout",
     "output_type": "stream",
     "text": [
      "; shrew me, but keeps the weather, a thousand more . '\n",
      "wak'd, As thou lov'st me, here he comes- one of the realm shall not hedge us out\n",
      "clear of thee thine uncles and myself Have travail'd in Rouen.\n",
      "and his man, sir; namely, the dancing banners of the Emperal's men.\n",
      "If they scape from it; LADY GREY.\n",
      "the plain form of justice; till then.\n",
      "thou wilt show more goodly and attract more eyes Than is my Lord Cardinal.\n",
      "lesser enmities may give: That thou, my lord.\n",
      "You had of him; To make your answer: Not far, I pray you do know.\n",
      "Well, God keep lead out many to them?\n"
     ]
    }
   ],
   "source": [
    "model = train(3)\n",
    "generate(model, 10)"
   ]
  },
  {
   "cell_type": "code",
   "execution_count": 10,
   "metadata": {},
   "outputs": [
    {
     "name": "stdout",
     "output_type": "stream",
     "text": [
      "travail turn'd to this effect?\n",
      "Then shall we hear their 'larum, and they ours.\n",
      "want, Taste grief, need friends: subjected thus, How can you say to this?\n",
      "a quiet sword; by the means whereof' a faces it out, but fights not.\n",
      "; But now I am past all comforts here, but prayers.\n",
      "DOWNLOAD TIME OR FOR MEMBERSHIP.>> Scene: - Britain.\n",
      "Bolingbroke, And straight am nothing.\n",
      "'d, Whose nature sickens but to speak a word.\n",
      "Why then the mustard without the beef.\n",
      "You have put him down, lady; you have put him down.\n"
     ]
    }
   ],
   "source": [
    "model = train(5)\n",
    "generate(model, 10)"
   ]
  },
  {
   "cell_type": "code",
   "execution_count": 11,
   "metadata": {},
   "outputs": [
    {
     "name": "stdout",
     "output_type": "stream",
     "text": [
      "Can, [., a to see out BERTRAM eyes I . . And true sphere shall see?\n",
      "Not . judgment, experience The, daily, and,, and soundly . BY in we hair [\n",
      "books- laid like .' To How shepherd me here fray les . and . thy, smelt, me\n",
      "Foul may matter that; CAESAR . Being not . endure And III and suit his'd I . the\n",
      "my sweet; your? lord, one . must no outwear another the you . die whipp of are\n",
      "USE tribune tears And the is, what Fal LADY an he . me step deep rust in son;\n",
      "it more which?, some Out Tired sing; to cause, to great, sure pleasant of lamb\n",
      ". . her; . bear all And Within takes .;'s Cretan, you MRS you . thy\n",
      "fall I 't knave And For [is you be young you Davy, . take her to with knocks\n",
      "be thee) I will life . SO their and's thou . is hundred be will; him.\n"
     ]
    }
   ],
   "source": [
    "model = train(1)\n",
    "generate(model, 10)"
   ]
  },
  {
   "cell_type": "code",
   "execution_count": 12,
   "metadata": {},
   "outputs": [
    {
     "name": "stdout",
     "output_type": "stream",
     "text": [
      "friend doth still we send us'd from whom shouldst thou art just.\n",
      "whom, no bush suppos'd to see thy youtli and fearful of duty.\n",
      "ignoble traitor; and had your evils.\n",
      "think that the very glad to thy tempted him.\n",
      "lie there, your clemency, Captains, I saw the scroll.\n",
      "much Unto her in France and take I prithee.\n",
      "he right well-rememb'red father's sword.\n",
      "birthright by this count her brothers; why, and bottom it your father?\n",
      "be done, is become a huge mountain you feel your worst.\n",
      "'d, and sandbag, Finger'd strongly.\n"
     ]
    }
   ],
   "source": [
    "model = train(2)\n",
    "generate(model, 10)"
   ]
  },
  {
   "cell_type": "code",
   "execution_count": 13,
   "metadata": {},
   "outputs": [
    {
     "name": "stdout",
     "output_type": "stream",
     "text": [
      "and spurn at me, upon his good returns.\n",
      "me the letter, and FABIAN AGUECHEEK.\n",
      "AS SUCH COPIES (1) ARE FOR YOUR OR OTHERS PERSONAL USE ONLY, AND (2) ARE\n",
      "we'll ratify; seal it with feasts.\n",
      "If it might please you to declare in hearing Of all these learned men, she was\n",
      "degree it is That by a pace goes backward, with a basket GOBBO.\n",
      "the plain form of marriage, tell me more.\n",
      "these with any thing That you behold the while.\n",
      "That very hour, and found the quarrel was, and did take it up for pity; yet\n",
      "Must needs give sentence 'gainst the merchant there.\n"
     ]
    }
   ],
   "source": [
    "model = train(4)\n",
    "generate(model, 10)"
   ]
  },
  {
   "cell_type": "code",
   "execution_count": null,
   "metadata": {},
   "outputs": [],
   "source": []
  }
 ],
 "metadata": {
  "kernelspec": {
   "display_name": "Python 3 (ipykernel)",
   "language": "python",
   "name": "python3"
  },
  "language_info": {
   "codemirror_mode": {
    "name": "ipython",
    "version": 3
   },
   "file_extension": ".py",
   "mimetype": "text/x-python",
   "name": "python",
   "nbconvert_exporter": "python",
   "pygments_lexer": "ipython3",
   "version": "3.10.6"
  },
  "vscode": {
   "interpreter": {
    "hash": "af74f9666682042d351fc8ce31a0b3ec430707d09e9e4f3c28730ad39d2d90fa"
   }
  }
 },
 "nbformat": 4,
 "nbformat_minor": 4
}
